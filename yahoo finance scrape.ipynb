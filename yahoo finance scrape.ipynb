{
 "cells": [
  {
   "cell_type": "code",
   "execution_count": 1,
   "metadata": {
    "collapsed": true
   },
   "outputs": [],
   "source": [
    "import requests\n",
    "from bs4 import BeautifulSoup\n",
    "import pandas as pd\n"
   ]
  },
  {
   "cell_type": "code",
   "execution_count": 10,
   "metadata": {
    "collapsed": false
   },
   "outputs": [],
   "source": [
    "\n"
   ]
  },
  {
   "cell_type": "code",
   "execution_count": 12,
   "metadata": {
    "collapsed": false
   },
   "outputs": [
    {
     "data": {
      "text/html": [
       "<div>\n",
       "<table border=\"1\" class=\"dataframe\">\n",
       "  <thead>\n",
       "    <tr style=\"text-align: right;\">\n",
       "      <th></th>\n",
       "      <th>52 Week Range</th>\n",
       "      <th>Ask</th>\n",
       "      <th>Avg. Volume</th>\n",
       "      <th>Bid</th>\n",
       "      <th>Day's Range</th>\n",
       "      <th>Open</th>\n",
       "      <th>Previous Close</th>\n",
       "      <th>Volume</th>\n",
       "      <th>company</th>\n",
       "    </tr>\n",
       "  </thead>\n",
       "  <tbody>\n",
       "    <tr>\n",
       "      <th>0</th>\n",
       "      <td>89.47 - 145.46</td>\n",
       "      <td>143.75 x 400</td>\n",
       "      <td>25,818,375</td>\n",
       "      <td>143.65 x 4100</td>\n",
       "      <td>143.20 - 143.95</td>\n",
       "      <td>143.52</td>\n",
       "      <td>142.27</td>\n",
       "      <td>15,079,412</td>\n",
       "      <td>Apple</td>\n",
       "    </tr>\n",
       "  </tbody>\n",
       "</table>\n",
       "</div>"
      ],
      "text/plain": [
       "    52 Week Range           Ask Avg. Volume            Bid      Day's Range  \\\n",
       "0  89.47 - 145.46  143.75 x 400  25,818,375  143.65 x 4100  143.20 - 143.95   \n",
       "\n",
       "     Open Previous Close      Volume company  \n",
       "0  143.52         142.27  15,079,412   Apple  "
      ]
     },
     "execution_count": 12,
     "metadata": {},
     "output_type": "execute_result"
    }
   ],
   "source": [
    "companies = []\n",
    "##initialize array to put key-value pairs\n",
    "response = requests.get('https://finance.yahoo.com/quote/AAPL?p=AAPL')\n",
    "soup = BeautifulSoup(response.content, 'lxml')\n",
    "\n",
    "table = soup.find('table',{'data-reactid':'339'}).find('tbody')\n",
    "rows = table.find_all('tr')\n",
    "company = {}\n",
    "company['company'] = 'Apple'\n",
    "for row in rows:\n",
    "    tds = row.find_all('td')\n",
    "    company[tds[0].text] = tds[1].text\n",
    "companies.append(company)\n",
    "\n",
    "pd.DataFrame(companies)"
   ]
  },
  {
   "cell_type": "code",
   "execution_count": null,
   "metadata": {
    "collapsed": true
   },
   "outputs": [],
   "source": []
  }
 ],
 "metadata": {
  "kernelspec": {
   "display_name": "Python 2",
   "language": "python",
   "name": "python2"
  },
  "language_info": {
   "codemirror_mode": {
    "name": "ipython",
    "version": 2
   },
   "file_extension": ".py",
   "mimetype": "text/x-python",
   "name": "python",
   "nbconvert_exporter": "python",
   "pygments_lexer": "ipython2",
   "version": "2.7.13"
  }
 },
 "nbformat": 4,
 "nbformat_minor": 2
}

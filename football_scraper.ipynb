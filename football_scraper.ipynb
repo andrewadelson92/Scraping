{
 "cells": [
  {
   "cell_type": "code",
   "execution_count": 2,
   "metadata": {
    "collapsed": true
   },
   "outputs": [],
   "source": [
    "import requests"
   ]
  },
  {
   "cell_type": "code",
   "execution_count": 3,
   "metadata": {
    "collapsed": true
   },
   "outputs": [],
   "source": [
    "from bs4 import BeautifulSoup"
   ]
  },
  {
   "cell_type": "code",
   "execution_count": 4,
   "metadata": {
    "collapsed": true
   },
   "outputs": [],
   "source": [
    "import pandas as pd"
   ]
  },
  {
   "cell_type": "code",
   "execution_count": null,
   "metadata": {
    "collapsed": true
   },
   "outputs": [],
   "source": [
    "response = requests.get('https://www.footballoutsiders.com/stats/rb')"
   ]
  },
  {
   "cell_type": "code",
   "execution_count": null,
   "metadata": {
    "collapsed": true
   },
   "outputs": [],
   "source": [
    "soup = BeautifulSoup(response.content, 'lxml')"
   ]
  },
  {
   "cell_type": "code",
   "execution_count": null,
   "metadata": {
    "collapsed": false
   },
   "outputs": [],
   "source": [
    "tables = soup.find_all('table')\n",
    "len(tables)"
   ]
  },
  {
   "cell_type": "code",
   "execution_count": null,
   "metadata": {
    "collapsed": false
   },
   "outputs": [],
   "source": [
    "table1 = tables[0]\n",
    "table1.text"
   ]
  },
  {
   "cell_type": "code",
   "execution_count": null,
   "metadata": {
    "collapsed": false
   },
   "outputs": [],
   "source": [
    "runningbacksruns = []\n",
    "for i in range(2011,2017):\n",
    "    site = 'https://www.footballoutsiders.com/stats/rb' +str(i)\n",
    "    response = requests.get(site)\n",
    "    soup = BeautifulSoup(response.content, 'lxml')\n",
    "    tables = soup.find_all('table')\n",
    "    table1 = tables[0]\n",
    "    for row in table1.find_all('tr')[1:]: \n",
    "        if row.find_all('td')[0].text.strip()!='Player':\n",
    "            player = {}\n",
    "            cells = row.find_all('td')\n",
    "            player['Name'] = cells[0].text\n",
    "            player['Slug'] = cells[1].text\n",
    "            player['DYAR'] =cells[2].text\n",
    "            player['YAR'] =cells[4].text\n",
    "            player['DVOA'] =cells[6].text\n",
    "            player['VOA'] =cells[8].text\n",
    "            player['Runs'] =cells[9].text\n",
    "            player['Yards'] =cells[10].text\n",
    "            player['EYards'] =cells[11].text\n",
    "            player['TD'] =cells[12].text\n",
    "            player['FUM'] =cells[13].text\n",
    "            player['success_rate'] = cells[14].text\n",
    "            player['Year']=i\n",
    "            runningbacksruns.append(player)\n",
    "    table2 = tables[1]\n",
    "    for row in table2.find_all('tr')[1:]:\n",
    "        if row.find_all('td')[0].text.strip()!='Player':\n",
    "            player = {}\n",
    "            cells = row.find_all('td')\n",
    "            player['Name'] = cells[0].text\n",
    "            player['Slug'] = cells[1].text\n",
    "            player['DYAR'] =cells[2].text\n",
    "            player['YAR'] =cells[3].text\n",
    "            player['DVOA'] =cells[4].text\n",
    "            player['VOA'] =cells[5].text\n",
    "            player['Runs'] =cells[6].text\n",
    "            player['Yards'] =cells[7].text\n",
    "            player['EYards'] =cells[8].text\n",
    "            player['TD'] =cells[9].text\n",
    "            player['FUM'] =cells[10].text\n",
    "            player['Year'] = i\n",
    "            runningbacksruns.append(player)\n",
    "df = pd.DataFrame(runningbacksruns)\n",
    "df.shape\n",
    "    "
   ]
  },
  {
   "cell_type": "code",
   "execution_count": null,
   "metadata": {
    "collapsed": false
   },
   "outputs": [],
   "source": []
  },
  {
   "cell_type": "code",
   "execution_count": null,
   "metadata": {
    "collapsed": false
   },
   "outputs": [],
   "source": [
    "runningbackscatches=[]\n",
    "for i in range(2011,2017):\n",
    "    site = 'https://www.footballoutsiders.com/stats/rb' +str(i)\n",
    "    print site\n",
    "    response = requests.get(site)\n",
    "    soup = BeautifulSoup(response.content, 'lxml')\n",
    "    tables = soup.find_all('table')\n",
    "    table3 = tables[2]\n",
    "    for row in table3.find_all('tr')[1:]: \n",
    "        if row.find_all('td')[0].text.strip()!='Player':\n",
    "            player = {}\n",
    "            cells = row.find_all('td')\n",
    "            player['Name'] = cells[0].text\n",
    "            player['Slug'] = cells[1].text\n",
    "            player['RDYAR'] =cells[2].text\n",
    "            player['RYAR'] =cells[4].text\n",
    "            player['RDVOA'] =cells[6].text\n",
    "            player['RVOA'] =cells[8].text\n",
    "            player['Catches'] =cells[9].text\n",
    "            player['RYards'] =cells[10].text\n",
    "            player['REYards'] =cells[11].text\n",
    "            player['RTD'] =cells[12].text\n",
    "            player['catch_rate'] = cells[13].text\n",
    "            player['RFUM'] =cells[14].text\n",
    "            player['Year']=i\n",
    "            \n",
    "            runningbackscatches.append(player)\n",
    "    table4 = tables[3]\n",
    "    for row in table4.find_all('tr')[1:]: \n",
    "        if row.find_all('td')[0].text.strip()!='Player':\n",
    "            player = {}\n",
    "            cells = row.find_all('td')\n",
    "            player['Name'] = cells[0].text\n",
    "            player['Slug'] = cells[1].text\n",
    "            player['RDYAR'] =cells[2].text\n",
    "            player['RYAR'] =cells[3].text\n",
    "            player['RDVOA'] =cells[4].text\n",
    "            player['RVOA'] =cells[5].text\n",
    "            player['Catches'] =cells[6].text\n",
    "            player['RYards'] =cells[7].text\n",
    "            player['REYards'] =cells[8].text\n",
    "            player['RTD'] =cells[9].text\n",
    "            player['catch_rate'] = cells[10].text\n",
    "            player['RFUM'] =cells[11].text\n",
    "            player['Year']=i\n",
    "            runningbackscatches.append(player)\n",
    "df2 = pd.DataFrame(runningbackscatches)"
   ]
  },
  {
   "cell_type": "code",
   "execution_count": null,
   "metadata": {
    "collapsed": false
   },
   "outputs": [],
   "source": [
    "tightends = []\n",
    "for i in range(2011,2017):\n",
    "    site = 'https://www.footballoutsiders.com/stats/te' +str(i)\n",
    "    response = requests.get(site)\n",
    "    soup = BeautifulSoup(response.content, 'lxml')\n",
    "    tables = soup.find_all('table')\n",
    "    table1 = tables[0]\n",
    "    for row in table1.find_all('tr')[1:]: \n",
    "        if row.find_all('td')[0].text.strip()!='Player':\n",
    "            player = {}\n",
    "            cells = row.find_all('td')\n",
    "            player['Name'] = cells[0].text\n",
    "            player['Slug'] = cells[1].text\n",
    "            player['DYAR'] =cells[2].text\n",
    "            player['YAR'] =cells[4].text\n",
    "            player['DVOA'] =cells[6].text\n",
    "            player['RVOA'] =cells[8].text\n",
    "            player['Catches'] =cells[9].text\n",
    "            player['Yards'] =cells[10].text\n",
    "            player['EYards'] =cells[11].text\n",
    "            player['TD'] =cells[12].text\n",
    "            player['catch_rate'] = cells[13].text\n",
    "            player['FUM'] =cells[14].text\n",
    "            player['Year']=i\n",
    "            tightends.append(player)\n",
    "    table2 = tables[1]\n",
    "    for row in table2.find_all('tr')[1:]: \n",
    "        if row.find_all('td')[0].text.strip()!='Player':\n",
    "            player = {}\n",
    "            cells = row.find_all('td')\n",
    "            player['Name'] = cells[0].text\n",
    "            player['Slug'] = cells[1].text\n",
    "            player['DYAR'] =cells[2].text\n",
    "            player['YAR'] =cells[3].text\n",
    "            player['DVOA'] =cells[4].text\n",
    "            player['RVOA'] =cells[5].text\n",
    "            player['Catches'] =cells[6].text\n",
    "            player['Yards'] =cells[7].text\n",
    "            player['EYards'] =cells[8].text\n",
    "            player['TD'] =cells[9].text\n",
    "            player['catch_rate'] = cells[10].text\n",
    "            player['FUM'] =cells[11].text\n",
    "            player['Year']=i\n",
    "            tightends.append(player)\n",
    "te = pd.DataFrame(tightends)\n",
    "te.shape\n",
    "    "
   ]
  },
  {
   "cell_type": "code",
   "execution_count": 5,
   "metadata": {
    "collapsed": false
   },
   "outputs": [
    {
     "name": "stdout",
     "output_type": "stream",
     "text": [
      "https://www.footballoutsiders.com/stats/qb2011\n"
     ]
    },
    {
     "ename": "NameError",
     "evalue": "name 'cells' is not defined",
     "output_type": "error",
     "traceback": [
      "\u001b[0;31m---------------------------------------------------------------------------\u001b[0m",
      "\u001b[0;31mNameError\u001b[0m                                 Traceback (most recent call last)",
      "\u001b[0;32m<ipython-input-5-360c45280995>\u001b[0m in \u001b[0;36m<module>\u001b[0;34m()\u001b[0m\n\u001b[1;32m     10\u001b[0m         \u001b[0;32mif\u001b[0m \u001b[0mrow\u001b[0m\u001b[0;34m.\u001b[0m\u001b[0mfind_all\u001b[0m\u001b[0;34m(\u001b[0m\u001b[0;34m'td'\u001b[0m\u001b[0;34m)\u001b[0m\u001b[0;34m[\u001b[0m\u001b[0;36m0\u001b[0m\u001b[0;34m]\u001b[0m\u001b[0;34m.\u001b[0m\u001b[0mtext\u001b[0m\u001b[0;34m.\u001b[0m\u001b[0mstrip\u001b[0m\u001b[0;34m(\u001b[0m\u001b[0;34m)\u001b[0m\u001b[0;34m!=\u001b[0m\u001b[0;34m'Player'\u001b[0m\u001b[0;34m:\u001b[0m\u001b[0;34m\u001b[0m\u001b[0m\n\u001b[1;32m     11\u001b[0m             \u001b[0mplayer\u001b[0m \u001b[0;34m=\u001b[0m \u001b[0;34m{\u001b[0m\u001b[0;34m}\u001b[0m\u001b[0;34m\u001b[0m\u001b[0m\n\u001b[0;32m---> 12\u001b[0;31m             \u001b[0mplayer\u001b[0m\u001b[0;34m[\u001b[0m\u001b[0;34m'Name'\u001b[0m\u001b[0;34m]\u001b[0m \u001b[0;34m=\u001b[0m \u001b[0mcells\u001b[0m\u001b[0;34m[\u001b[0m\u001b[0;36m0\u001b[0m\u001b[0;34m]\u001b[0m\u001b[0;34m.\u001b[0m\u001b[0mtext\u001b[0m\u001b[0;34m\u001b[0m\u001b[0m\n\u001b[0m\u001b[1;32m     13\u001b[0m             \u001b[0mplayer\u001b[0m\u001b[0;34m[\u001b[0m\u001b[0;34m'Slug'\u001b[0m\u001b[0;34m]\u001b[0m \u001b[0;34m=\u001b[0m \u001b[0mcells\u001b[0m\u001b[0;34m[\u001b[0m\u001b[0;36m1\u001b[0m\u001b[0;34m]\u001b[0m\u001b[0;34m.\u001b[0m\u001b[0mtext\u001b[0m\u001b[0;34m\u001b[0m\u001b[0m\n\u001b[1;32m     14\u001b[0m             \u001b[0mplayer\u001b[0m\u001b[0;34m[\u001b[0m\u001b[0;34m'DYAR'\u001b[0m\u001b[0;34m]\u001b[0m \u001b[0;34m=\u001b[0m\u001b[0mcells\u001b[0m\u001b[0;34m[\u001b[0m\u001b[0;36m2\u001b[0m\u001b[0;34m]\u001b[0m\u001b[0;34m.\u001b[0m\u001b[0mtext\u001b[0m\u001b[0;34m\u001b[0m\u001b[0m\n",
      "\u001b[0;31mNameError\u001b[0m: name 'cells' is not defined"
     ]
    }
   ],
   "source": [
    "quarterbackspass = []\n",
    "for i in range(2011,2017):\n",
    "    site = 'https://www.footballoutsiders.com/stats/qb' +str(i)\n",
    "    response = requests.get(site)\n",
    "    soup = BeautifulSoup(response.content, 'lxml')\n",
    "    tables = soup.find_all('table')\n",
    "    table1 = tables[0]\n",
    "    for row in table1.find_all('tr')[1:]:\n",
    "        print site\n",
    "        if row.find_all('td')[0].text.strip()!='Player':\n",
    "            player = {}\n",
    "            cells = row.find_all('td')\n",
    "            player['Name'] = cells[0].text\n",
    "            player['Slug'] = cells[1].text\n",
    "            player['DYAR'] =cells[2].text\n",
    "            player['YAR'] = cells[4].text\n",
    "            player['DVOA'] = cells[6].text\n",
    "            player['VOA'] = cells[8].text\n",
    "            player['QBR'] = cells[9].text\n",
    "            player['pass_attempts'] = cells[11].text\n",
    "            player['pass_yards'] = cells[12].text\n",
    "            player['eff_pass_yards'] = cells[13].text\n",
    "            player['TD'] = cells[14].text\n",
    "            player['FK'] = cells[15].text\n",
    "            player['FL'] = cells[16].text\n",
    "            player['INT'] = cells[17].text\n",
    "            player['C%'] = cells[18].text\n",
    "            player['ALEX'] = cells[20].text\n",
    "            player['year']=i\n",
    "            quarterbackspass.append(player)\n",
    "    table2 = tables[1]\n",
    "    for row in table2.find_all('tr')[1:]: \n",
    "        if row.find_all('td')[0].text.strip()!='Player':\n",
    "            player = {}\n",
    "            cells = row.find_all('td')\n",
    "            player['Name'] = cells[0].text\n",
    "            player['Slug'] = cells[1].text\n",
    "            player['DYAR'] =cells[2].text\n",
    "            player['YAR'] = cells[3].text\n",
    "            player['DVOA'] = cells[4].text\n",
    "            player['VOA'] = cells[5].text\n",
    "            player['QBR'] = cells[6].text\n",
    "            player['pass_attempts'] = cells[7].text\n",
    "            player['pass_yards'] = cells[8].text\n",
    "            player['eff_pass_yards'] = cells[9].text\n",
    "            player['TD'] = cells[10].text\n",
    "            player['FK'] = cells[11].text\n",
    "            player['FL'] = cells[12].text\n",
    "            player['INT'] = cells[13].text\n",
    "            player['C%'] = cells[14].text\n",
    "            player['ALEX'] = cells[16].text\n",
    "            player['year']=i\n",
    "            quarterbackspass.append(player)\n",
    "      \n",
    "qbp = pd.DataFrame(quarterbackspass)\n",
    "            \n",
    "            "
   ]
  },
  {
   "cell_type": "code",
   "execution_count": null,
   "metadata": {
    "collapsed": true
   },
   "outputs": [],
   "source": [
    "quarterbackruns = []\n",
    "for i in range(2011,2017):\n",
    "    site = 'https://www.footballoutsiders.com/stats/qb' +str(i)\n",
    "    response = requests.get(site)\n",
    "    soup = BeautifulSoup(response.content, 'lxml')\n",
    "    tables = soup.find_all('table')\n",
    "    table3 = tables[2]\n",
    "    for row in table3.find_all('tr')[1:]:\n",
    "        if row.find_all('td')[0].text.strip()!='Player':\n",
    "            player = {}\n",
    "            cells = row.find_all('td')\n",
    "            player['Name'] = cells[0].text\n",
    "            player['Slug'] = cells[1].text\n",
    "            player['DYAR'] =cells[2].text\n",
    "            player['YAR'] =cells[4].text\n",
    "            player['DVOA'] =cells[6].text\n",
    "            player['VOA'] =cells[8].text\n",
    "            player['Runs'] =cells[9].text\n",
    "            player['Yards'] =cells[10].text\n",
    "            player['Eyards'] =cells[11].text\n",
    "            player['TD'] =cells[12].text\n",
    "            player['Fumble'] =cells[13].text\n",
    "            quarterbackruns.append(player)\n",
    "            \n",
    "QBR = pd.DataFrame(quarterbackruns)\n",
    "            \n",
    "            \n",
    "            "
   ]
  },
  {
   "cell_type": "code",
   "execution_count": null,
   "metadata": {
    "collapsed": true
   },
   "outputs": [],
   "source": [
    "widereceivercatches = []\n",
    "for i in range(2011,2017):\n",
    "    site = 'https://www.footballoutsiders.com/stats/wr' +str(i)\n",
    "    response = requests.get(site)\n",
    "    soup = BeautifulSoup(response.content, 'lxml')\n",
    "    tables = soup.find_all('table')\n",
    "    table1 = tables[0]\n",
    "    for row in table1.find_all('tr')[1:]:\n",
    "        if row.find_all('td')[0].text.strip()!='Player':\n",
    "            player = {}\n",
    "            cells = row.find_all('td')\n",
    "            player['Name'] = cells[0].text\n",
    "            player['Slug'] = cells[1].text\n",
    "            player['DYAR'] =cells[2].text\n",
    "            player['YAR'] =cells[4].text\n",
    "            player['DVOA'] =cells[6].text\n",
    "            player['VOA'] =cells[8].text\n",
    "            player['catches'] =cells[9].text\n",
    "            player['yards'] =cells[10].text\n",
    "            player['Eyards'] =cells[11].text\n",
    "            player['TD'] =cells[12].text\n",
    "            player['Catch_rate'] =cells[13].text\n",
    "            player['fumbles'] =cells[14].text\n",
    "            widereceivercatches.append(player)\n",
    "    table2 = tables[1]\n",
    "    for row in table2.find_all('tr')[1:]:\n",
    "        if row.find_all('td')[0].text.strip()!='Player':\n",
    "            player = {}\n",
    "            cells = row.find_all('td')\n",
    "            player['Name'] = cells[0].text\n",
    "            player['Slug'] = cells[1].text\n",
    "            player['DYAR'] =cells[2].text\n",
    "            player['YAR'] =cells[3].text\n",
    "            player['DVOA'] =cells[4].text\n",
    "            player['VOA'] =cells[5].text\n",
    "            player['catches'] =cells[6].text\n",
    "            player['yards'] =cells[7].text\n",
    "            player['Eyards'] =cells[8].text\n",
    "            player['TD'] =cells[9].text\n",
    "            player['Catch_rate'] =cells[10].text\n",
    "            player['fumbles'] =cells[11].text\n",
    "            widereceivercatches.append(player)\n",
    "WRC = pd.DataFrame(widereceivercatches)"
   ]
  },
  {
   "cell_type": "code",
   "execution_count": null,
   "metadata": {
    "collapsed": true
   },
   "outputs": [],
   "source": [
    "widereceiverruns = []\n",
    "for i in range(2011,2017):\n",
    "    site = 'https://www.footballoutsiders.com/stats/wr' +str(i)\n",
    "    response = requests.get(site)\n",
    "    soup = BeautifulSoup(response.content, 'lxml')\n",
    "    tables = soup.find_all('table')\n",
    "    table3 = tables[2]\n",
    "    for row in table1.find_all('tr')[1:]:\n",
    "        if row.find_all('td')[0].text.strip()!='Player':\n",
    "            player = {}\n",
    "            player['Name'] = cells[0].text\n",
    "            player['Slug'] = cells[1].text\n",
    "            player['DYAR'] =cells[2].text\n",
    "            player['YAR'] =cells[4].text\n",
    "            player['DVOA'] =cells[6].text\n",
    "            player['VOA'] =cells[8].text\n",
    "            player['runs'] =cells[9].text\n",
    "            player['yards'] =cells[10].text\n",
    "            player['TD'] =cells[11].text\n",
    "            player['fumbles'] = cellts[12].text\n",
    "            widereceiverruns.append(player)\n",
    "            \n",
    "WRR = pd.DataFrame(widereceiverruns)"
   ]
  }
 ],
 "metadata": {
  "kernelspec": {
   "display_name": "Python 2",
   "language": "python",
   "name": "python2"
  },
  "language_info": {
   "codemirror_mode": {
    "name": "ipython",
    "version": 2
   },
   "file_extension": ".py",
   "mimetype": "text/x-python",
   "name": "python",
   "nbconvert_exporter": "python",
   "pygments_lexer": "ipython2",
   "version": "2.7.13"
  }
 },
 "nbformat": 4,
 "nbformat_minor": 2
}

{
 "cells": [
  {
   "cell_type": "code",
   "execution_count": 8,
   "metadata": {
    "collapsed": true
   },
   "outputs": [],
   "source": [
    "import requests\n",
    "from bs4 import BeautifulSoup\n",
    "import pandas as pd\n"
   ]
  },
  {
   "cell_type": "code",
   "execution_count": 9,
   "metadata": {
    "collapsed": true
   },
   "outputs": [],
   "source": [
    "response = requests.get('http://www.donbest.com/nba/odds/20170422.html')\n",
    "soup = BeautifulSoup(response.content, 'lxml')"
   ]
  },
  {
   "cell_type": "code",
   "execution_count": 22,
   "metadata": {
    "collapsed": false
   },
   "outputs": [
    {
     "data": {
      "text/plain": [
       "'11/2/2017'"
      ]
     },
     "execution_count": 22,
     "metadata": {},
     "output_type": "execute_result"
    }
   ],
   "source": [
    "##make function to find the correct Date that will match the other df\n",
    "def get_Date(string):\n",
    "    if (string[4]=='0') and (string[6]=='0'):\n",
    "        return string[5]+ '/'+string[7]+ '/' + string[0:4]\n",
    "    elif (string[4]=='0'):\n",
    "        return string[5]+'/'+string[6:]+ '/' + string[0:4]\n",
    "    elif (string[6]=='0'):\n",
    "        return string[4:6]+'/'+string[7]+'/'+string[0:4]\n",
    "get_Date('20171102')"
   ]
  },
  {
   "cell_type": "code",
   "execution_count": 41,
   "metadata": {
    "collapsed": false
   },
   "outputs": [
    {
     "name": "stdout",
     "output_type": "stream",
     "text": [
      "195.5-2.5\n",
      "{'time_east': u'3:10', 'away': u'Toronto Raptors', 'spread': u'2.5', 'Date': '4/22/2017', 'home': u'Milwaukee Bucks', 'total': u'195.5'}\n",
      "210.0-2.5\n",
      "{'time_east': u'5:40', 'away': u'Washington Wizards', 'spread': u'2.5', 'Date': '4/22/2017', 'home': u'Atlanta Hawks', 'total': u'210.0'}\n",
      "{'time_east': u'8:10', 'away': u'San Antonio Spurs', 'spread': u'-3.5', 'Date': '4/22/2017', 'home': u'Memphis Grizzlies', 'total': u'189.0'}\n",
      "{'time_east': u'10:45', 'away': u'Golden State Warriors', 'spread': u'-6.5', 'Date': '4/22/2017', 'home': u'Portland Trail Blazers', 'total': u'219.0'}\n"
     ]
    }
   ],
   "source": [
    "string = '20170422'\n",
    "lines = []\n",
    "table = soup.find('table')\n",
    "try:\n",
    "    rows = table.find_all('tr')[2:]\n",
    "    for row in rows:\n",
    "        line = {}\n",
    "        els = row.find_all('td')[1:]\n",
    "        line['away']=els[1].find_all('nobr')[0].text\n",
    "        line['home']=els[1].find_all('nobr')[1].text\n",
    "        line['Date'] = get_Date(string)\n",
    "        if els[0].text[0]=='-':#road team is favored. Give it a minus\n",
    "            line['spread'] = els[0].text[:-5]\n",
    "            line['total']=els[0].text[-5:]\n",
    "        else:#home team is favored so spread will be positive\n",
    "            print els[0].text\n",
    "            line['total'] = els[0].text[:-4]\n",
    "            line['spread'] = els[0].text[-3:]\n",
    "        line['time_east'] = els[2].text.split(' ')[0]\n",
    "        print line\n",
    "except:\n",
    "    \n",
    "    pass"
   ]
  },
  {
   "cell_type": "code",
   "execution_count": 25,
   "metadata": {
    "collapsed": false
   },
   "outputs": [
    {
     "data": {
      "text/plain": [
       "-3.2"
      ]
     },
     "execution_count": 25,
     "metadata": {},
     "output_type": "execute_result"
    }
   ],
   "source": []
  },
  {
   "cell_type": "code",
   "execution_count": null,
   "metadata": {
    "collapsed": true
   },
   "outputs": [],
   "source": []
  }
 ],
 "metadata": {
  "kernelspec": {
   "display_name": "Python 2",
   "language": "python",
   "name": "python2"
  },
  "language_info": {
   "codemirror_mode": {
    "name": "ipython",
    "version": 2
   },
   "file_extension": ".py",
   "mimetype": "text/x-python",
   "name": "python",
   "nbconvert_exporter": "python",
   "pygments_lexer": "ipython2",
   "version": "2.7.13"
  }
 },
 "nbformat": 4,
 "nbformat_minor": 2
}
